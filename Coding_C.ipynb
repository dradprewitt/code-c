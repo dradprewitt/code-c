{
 "cells": [
  {
   "cell_type": "markdown",
   "metadata": {},
   "source": [
    "### Coding Challenge\n",
    "Write a program that reads a list of numbers and for each number outputs an estimate of the running mean, running standard deviation, and running median.  The input should be read from standard in, with one number per line.  For each line of input, the program should print to standard out the estimated running mean, running standard deviation, and running median.  That is, given the input\n",
    "\n",
    "1\n",
    "\n",
    "2\n",
    "\n",
    "3\n",
    "\n",
    "137.036\n",
    "\n",
    "the program should output values close to\n",
    "\n",
    "1, 0, 1\n",
    "\n",
    "1.5, 0.5, 1.5\n",
    "\n",
    "2, 0.816, 2\n",
    "\n",
    "35.759, 58.477, 2.5\n",
    "\n",
    "**Some notes:**\n",
    "* Using either the biased or unbiased estimate of the standard deviation is fine, but you should report a number even for the first step.\n",
    "* There are several ways to define the median for an even number of samples; you may use any of these definitions.\n",
    "* Output numbers at a reasonable precision.\n",
    "\n",
    "You will probably have to strike a balance between the accuracy of the results and  resources your program requires.  Choose a sensible tradeoff.  Better yet, allow this to be configurable.\n",
    "\n",
    "Ideally, this program should be able to handle arbitrarily long lists of inputs.  It would be nice for it to output results as soon as possible, instead of needing to wait for all of standard in to be read.  You do not have to worry about malicious input (there won't be 10 GB on a single line), but gracefully handling malformed input lines is a plus.\n",
    "\n",
    "\n",
    "Upload your solution to the public DVCS host of your choice, and send us a link to the repository.  You may use any programming language or packages you like, but if you use anything outside of Python 3, Pandas, or Numpy, please include instructions to help us run your code."
   ]
  },
  {
   "cell_type": "code",
   "execution_count": 232,
   "metadata": {},
   "outputs": [],
   "source": [
    "import sys \n",
    "import pandas as pd\n",
    "import numpy as np"
   ]
  },
  {
   "cell_type": "code",
   "execution_count": 242,
   "metadata": {},
   "outputs": [
    {
     "data": {
      "text/plain": [
       "[1, 2, 3, 137.036]"
      ]
     },
     "execution_count": 242,
     "metadata": {},
     "output_type": "execute_result"
    }
   ],
   "source": [
    "#Need to Read a list of numbers\n",
    "#Test with example\n",
    "\n",
    "#1, 2, 3, 137.036\n",
    "ex = [1, 2, 3, 137.036]\n",
    "ex\n",
    "\n",
    "\n",
    "\n"
   ]
  },
  {
   "cell_type": "code",
   "execution_count": 235,
   "metadata": {},
   "outputs": [],
   "source": [
    "numlist = []"
   ]
  },
  {
   "cell_type": "code",
   "execution_count": 236,
   "metadata": {},
   "outputs": [
    {
     "name": "stdout",
     "output_type": "stream",
     "text": [
      "The list is empty\n"
     ]
    }
   ],
   "source": [
    "#Check if a list is empty or count elements in list\n",
    "def fill_list(num1):\n",
    "    if num1:\n",
    "        print(\"This list has\", len(num1), \"elements\")\n",
    "    else:\n",
    "        print(\"The list is empty\")\n",
    "        \n",
    "        \n",
    "fill_list(numlist)"
   ]
  },
  {
   "cell_type": "code",
   "execution_count": 237,
   "metadata": {},
   "outputs": [
    {
     "name": "stdout",
     "output_type": "stream",
     "text": [
      "2.5 <class 'float'>\n"
     ]
    }
   ],
   "source": [
    "# Define the function get the median\n",
    "def get_med(list1):\n",
    "    \"\"\"Get the Median of a list \"\"\"\n",
    "    list1.sort() \n",
    "    mid = len(list1) // 2\n",
    "    res = (list1[mid] + list1[~mid]) / 2\n",
    "    return round(res,3)\n",
    "\n",
    "print(get_med(ex),type(get_med(ex)))"
   ]
  },
  {
   "cell_type": "code",
   "execution_count": 238,
   "metadata": {},
   "outputs": [
    {
     "name": "stdout",
     "output_type": "stream",
     "text": [
      "35.759 <class 'float'>\n"
     ]
    }
   ],
   "source": [
    "# Define the function get the mean\n",
    "def get_mean(list1):\n",
    "    \"\"\"Get the mean of list  \"\"\"\n",
    "    #print(sum(list1)/len(list1))\n",
    "    res = sum(list1)/len(list1)\n",
    "    return round(res,3)\n",
    "\n",
    "print(get_mean(ex),type(get_mean(ex)))"
   ]
  },
  {
   "cell_type": "code",
   "execution_count": 239,
   "metadata": {},
   "outputs": [
    {
     "name": "stdout",
     "output_type": "stream",
     "text": [
      "58.477 <class 'float'>\n"
     ]
    }
   ],
   "source": [
    "# Define the function get the mean\n",
    "def get_stdev(list1):\n",
    "    \"\"\"Get the standard deviation of list  \"\"\"\n",
    "    var = sum((x - (sum(list1)/len(list1))) ** 2 for x in list1) / len(list1)\n",
    "    res = var**(0.5)\n",
    "    return round(res,3)\n",
    "\n",
    " \n",
    "print(get_stdev(ex),type(get_stdev(ex)))"
   ]
  },
  {
   "cell_type": "code",
   "execution_count": 240,
   "metadata": {},
   "outputs": [],
   "source": [
    "#Determine if a input string is a numeric or not\n",
    "def get_number(x):\n",
    "    \"\"\"Determine if the input variable is a numeric   \"\"\"\n",
    "    try:\n",
    "        float(x)\n",
    "        return True\n",
    "    except ValueError:\n",
    "        return False"
   ]
  },
  {
   "cell_type": "code",
   "execution_count": 247,
   "metadata": {},
   "outputs": [
    {
     "name": "stdout",
     "output_type": "stream",
     "text": [
      "The list is empty\n",
      "----------------------\n",
      "Enter any number, to exit press a non numeric key and 'enter': 1\n",
      "<class 'str'> Type String\n",
      " \n",
      "\n",
      "1.0 0.0 1.0\n",
      " \n",
      "\n",
      "This list has 1 elements\n",
      "----------------------\n",
      "Enter any number, to exit press a non numeric key and 'enter': 2\n",
      "<class 'str'> Type String\n",
      " \n",
      "\n",
      "1.5 0.5 1.5\n",
      " \n",
      "\n",
      "This list has 2 elements\n",
      "----------------------\n",
      "Enter any number, to exit press a non numeric key and 'enter': 3\n",
      "<class 'str'> Type String\n",
      " \n",
      "\n",
      "2.0 0.816 2.0\n",
      " \n",
      "\n",
      "This list has 3 elements\n",
      "----------------------\n",
      "Enter any number, to exit press a non numeric key and 'enter': 137.036\n",
      "<class 'str'> Type String\n",
      " \n",
      "\n",
      "35.759 58.477 2.5\n",
      " \n",
      "\n",
      "This list has 4 elements\n",
      "----------------------\n",
      "Enter any number, to exit press a non numeric key and 'enter': ...\n",
      "<class 'str'> Type String\n",
      "... time to stop\n"
     ]
    }
   ],
   "source": [
    "#Read numbers from input and test code\n",
    "i=0\n",
    "i2 =[]\n",
    "while True:\n",
    "    #print(i)\n",
    "    #print(i2)\n",
    "    fill_list(i2)\n",
    "    \n",
    "    print('----------------------')\n",
    "\n",
    "    num7 = input(\"Enter any number, to exit press a non numeric key and 'enter': \")\n",
    "    #num9 = sys.stdin.readline() \n",
    "    num7 =num7.upper()\n",
    "    print(type(num7),'Type String')\n",
    "    \n",
    "    if num7 == 'EXIT' :\n",
    "        print(num7, 'time to stop')\n",
    "        break\n",
    "    \n",
    "    elif get_number(num7) == False:\n",
    "        print(num7, 'time to stop')\n",
    "        break\n",
    "    elif type(num7) == complex:\n",
    "        print('Complex Number, use integers and floats please')\n",
    "        break\n",
    "    else:\n",
    " \n",
    "        num2=num7\n",
    "      \n",
    "        i2.append(float(num2))\n",
    "        #print(\"number is: \", num2)\n",
    "        \n",
    "        print(' \\n')\n",
    "        print(get_mean(i2),get_stdev(i2),get_med(i2))\n",
    "        print(' \\n')\n",
    "        \n",
    "        #i=i+1\n",
    "        #if i == 7:\n",
    "        #    break\n",
    "    \n",
    "    "
   ]
  },
  {
   "cell_type": "code",
   "execution_count": 243,
   "metadata": {},
   "outputs": [
    {
     "name": "stdout",
     "output_type": "stream",
     "text": [
      "This list has 4 elements\n"
     ]
    }
   ],
   "source": [
    "fill_list(ex)"
   ]
  },
  {
   "cell_type": "code",
   "execution_count": 248,
   "metadata": {},
   "outputs": [
    {
     "data": {
      "text/plain": [
       "[1, 2, 3, 137.036]"
      ]
     },
     "execution_count": 248,
     "metadata": {},
     "output_type": "execute_result"
    }
   ],
   "source": [
    "ex"
   ]
  },
  {
   "cell_type": "code",
   "execution_count": 249,
   "metadata": {},
   "outputs": [
    {
     "data": {
      "text/plain": [
       "35.759"
      ]
     },
     "execution_count": 249,
     "metadata": {},
     "output_type": "execute_result"
    }
   ],
   "source": [
    "np.mean(ex)"
   ]
  },
  {
   "cell_type": "code",
   "execution_count": 245,
   "metadata": {},
   "outputs": [
    {
     "data": {
      "text/plain": [
       "58.47657858493432"
      ]
     },
     "execution_count": 245,
     "metadata": {},
     "output_type": "execute_result"
    }
   ],
   "source": [
    "np.std(ex)"
   ]
  },
  {
   "cell_type": "code",
   "execution_count": 250,
   "metadata": {},
   "outputs": [
    {
     "data": {
      "text/plain": [
       "2.5"
      ]
     },
     "execution_count": 250,
     "metadata": {},
     "output_type": "execute_result"
    }
   ],
   "source": [
    "np.median(ex)"
   ]
  },
  {
   "cell_type": "code",
   "execution_count": 246,
   "metadata": {},
   "outputs": [
    {
     "name": "stdout",
     "output_type": "stream",
     "text": [
      "35.759 58.477 2.5\n"
     ]
    }
   ],
   "source": [
    "#print estimate of the running mean, running standard deviation, and running median \n",
    "#test example list using numpy functions.\n",
    "\n",
    "print(round(np.mean(ex),3),round(np.std(ex),3),round(np.median(ex),3))"
   ]
  }
 ],
 "metadata": {
  "kernelspec": {
   "display_name": "Python 3",
   "language": "python",
   "name": "python3"
  },
  "language_info": {
   "codemirror_mode": {
    "name": "ipython",
    "version": 3
   },
   "file_extension": ".py",
   "mimetype": "text/x-python",
   "name": "python",
   "nbconvert_exporter": "python",
   "pygments_lexer": "ipython3",
   "version": "3.7.9"
  }
 },
 "nbformat": 4,
 "nbformat_minor": 4
}
